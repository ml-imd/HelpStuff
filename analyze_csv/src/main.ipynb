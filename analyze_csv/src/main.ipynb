{
 "cells": [
  {
   "cell_type": "code",
   "execution_count": 1,
   "metadata": {},
   "outputs": [],
   "source": [
    "from Script import analyzeAll, export"
   ]
  },
  {
   "cell_type": "code",
   "execution_count": 2,
   "metadata": {},
   "outputs": [],
   "source": [
    "def main(task, path, params, opt = {}):\n",
    "    tasks = {\"analyzeAll\" : analyzeAll,\n",
    "            \"export\" : export,}\n",
    "    tasks[task](path, *params, **opt)"
   ]
  },
  {
   "cell_type": "code",
   "execution_count": 3,
   "metadata": {},
   "outputs": [
    {
     "ename": "TypeError",
     "evalue": "unsupported operand type(s) for &: 'list' and 'list'",
     "output_type": "error",
     "traceback": [
      "\u001b[1;31m---------------------------------------------------------------------------\u001b[0m",
      "\u001b[1;31mTypeError\u001b[0m                                 Traceback (most recent call last)",
      "Input \u001b[1;32mIn [3]\u001b[0m, in \u001b[0;36m<cell line: 1>\u001b[1;34m()\u001b[0m\n\u001b[1;32m----> 1\u001b[0m \u001b[43mmain\u001b[49m\u001b[43m(\u001b[49m\u001b[38;5;124;43m\"\u001b[39;49m\u001b[38;5;124;43manalyzeAll\u001b[39;49m\u001b[38;5;124;43m\"\u001b[39;49m\u001b[43m,\u001b[49m\u001b[43m \u001b[49m\u001b[38;5;124;43m\"\u001b[39;49m\u001b[38;5;124;43miris.csv\u001b[39;49m\u001b[38;5;124;43m\"\u001b[39;49m\u001b[43m,\u001b[49m\u001b[43m \u001b[49m\u001b[43m[\u001b[49m\u001b[43m(\u001b[49m\u001b[38;5;241;43m2\u001b[39;49m\u001b[43m,\u001b[49m\u001b[38;5;241;43m3\u001b[39;49m\u001b[43m)\u001b[49m\u001b[43m,\u001b[49m\u001b[43m \u001b[49m\u001b[43m(\u001b[49m\u001b[38;5;241;43m1\u001b[39;49m\u001b[43m,\u001b[49m\u001b[43m)\u001b[49m\u001b[43m]\u001b[49m\u001b[43m,\u001b[49m\u001b[43m \u001b[49m\u001b[43m{\u001b[49m\u001b[38;5;124;43m\"\u001b[39;49m\u001b[38;5;124;43mlabel_col\u001b[39;49m\u001b[38;5;124;43m\"\u001b[39;49m\u001b[43m \u001b[49m\u001b[43m:\u001b[49m\u001b[43m \u001b[49m\u001b[38;5;124;43m\"\u001b[39;49m\u001b[38;5;124;43mvariety\u001b[39;49m\u001b[38;5;124;43m\"\u001b[39;49m\u001b[43m,\u001b[49m\u001b[43m \u001b[49m\u001b[38;5;124;43m\"\u001b[39;49m\u001b[38;5;124;43malgorithms\u001b[39;49m\u001b[38;5;124;43m\"\u001b[39;49m\u001b[43m \u001b[49m\u001b[43m:\u001b[49m\u001b[43m \u001b[49m\u001b[43m[\u001b[49m\u001b[38;5;124;43m\"\u001b[39;49m\u001b[38;5;124;43mKMeans\u001b[39;49m\u001b[38;5;124;43m\"\u001b[39;49m\u001b[43m,\u001b[49m\u001b[43m \u001b[49m\u001b[38;5;124;43m\"\u001b[39;49m\u001b[38;5;124;43mBirch\u001b[39;49m\u001b[38;5;124;43m\"\u001b[39;49m\u001b[43m,\u001b[49m\u001b[43m \u001b[49m\u001b[38;5;124;43m\"\u001b[39;49m\u001b[38;5;124;43mOPTICS\u001b[39;49m\u001b[38;5;124;43m\"\u001b[39;49m\u001b[43m]\u001b[49m\u001b[43m}\u001b[49m\u001b[43m)\u001b[49m\n",
      "Input \u001b[1;32mIn [2]\u001b[0m, in \u001b[0;36mmain\u001b[1;34m(task, path, params, opt)\u001b[0m\n\u001b[0;32m      1\u001b[0m \u001b[38;5;28;01mdef\u001b[39;00m \u001b[38;5;21mmain\u001b[39m(task, path, params, opt \u001b[38;5;241m=\u001b[39m {}):\n\u001b[0;32m      2\u001b[0m     tasks \u001b[38;5;241m=\u001b[39m {\u001b[38;5;124m\"\u001b[39m\u001b[38;5;124manalyzeAll\u001b[39m\u001b[38;5;124m\"\u001b[39m : analyzeAll,\n\u001b[0;32m      3\u001b[0m             \u001b[38;5;124m\"\u001b[39m\u001b[38;5;124mexport\u001b[39m\u001b[38;5;124m\"\u001b[39m : export,}\n\u001b[1;32m----> 4\u001b[0m     tasks[task](path, \u001b[38;5;241m*\u001b[39mparams, \u001b[38;5;241m*\u001b[39m\u001b[38;5;241m*\u001b[39mopt)\n",
      "File \u001b[1;32m~\\Documents\\Jupyter\\helpStuff\\analyze_csv\\src\\Script.py:175\u001b[0m, in \u001b[0;36manalyzeAll\u001b[1;34m(path, k_range, seed_values, label_col, algorithms)\u001b[0m\n\u001b[0;32m    172\u001b[0m have_seed_and_k \u001b[38;5;241m=\u001b[39m [\u001b[38;5;124m\"\u001b[39m\u001b[38;5;124mKMeans\u001b[39m\u001b[38;5;124m\"\u001b[39m, \u001b[38;5;124m\"\u001b[39m\u001b[38;5;124mMiniBatchKMeans\u001b[39m\u001b[38;5;124m\"\u001b[39m, \u001b[38;5;124m\"\u001b[39m\u001b[38;5;124mGaussianMixture\u001b[39m\u001b[38;5;124m\"\u001b[39m]\n\u001b[0;32m    174\u001b[0m \u001b[38;5;28;01mif\u001b[39;00m algorithms \u001b[38;5;129;01mis\u001b[39;00m \u001b[38;5;129;01mnot\u001b[39;00m \u001b[38;5;28;01mNone\u001b[39;00m:\n\u001b[1;32m--> 175\u001b[0m     have_none \u001b[38;5;241m=\u001b[39m \u001b[38;5;28mlist\u001b[39m(\u001b[43mhave_none\u001b[49m\u001b[43m \u001b[49m\u001b[38;5;241;43m&\u001b[39;49m\u001b[43m \u001b[49m\u001b[43malgorithms\u001b[49m)\n\u001b[0;32m    176\u001b[0m     have_k \u001b[38;5;241m=\u001b[39m \u001b[38;5;28mlist\u001b[39m(have_k \u001b[38;5;241m&\u001b[39m algorithms)\n\u001b[0;32m    177\u001b[0m     have_seed_and_k \u001b[38;5;241m=\u001b[39m \u001b[38;5;28mlist\u001b[39m(have_seed_and_k \u001b[38;5;241m&\u001b[39m algorithms)\n",
      "\u001b[1;31mTypeError\u001b[0m: unsupported operand type(s) for &: 'list' and 'list'"
     ]
    }
   ],
   "source": [
    "main(\"analyzeAll\", \"iris.csv\", [(2,3), (1,)], {\"label_col\" : \"variety\", \"algorithms\" : [\"KMeans\", \"Birch\", \"OPTICS\"]})\n",
    "\n",
    "#for k in range(2,11):\n",
    "#    main(\"export\", \"base_v1.csv\", [\"AgglomerativeClustering\"], {\"k\" : k})\n"
   ]
  },
  {
   "cell_type": "code",
   "execution_count": null,
   "metadata": {},
   "outputs": [],
   "source": [
    "#emo_big5\n",
    "main(\"export\", \"emo_big5.csv\", [\"KMeans\"], {\"k\" : 2, \"seed\": 7})\n",
    "main(\"export\", \"emo_big5.csv\", [\"KMeans\"], {\"k\" : 3, \"seed\": 7})\n",
    "main(\"export\", \"emo_big5.csv\", [\"DBSCAN\"])\n",
    "main(\"export\", \"emo_big5.csv\", [\"AgglomerativeClustering\"], {\"k\" : 3})\n",
    "\n",
    "#emo_big5_norm\n",
    "main(\"export\", \"emo_big5_norm.csv\", [\"KMeans\"], {\"k\" : 2, \"seed\": 7})\n",
    "main(\"export\", \"emo_big5_norm.csv\", [\"KMeans\"], {\"k\" : 3, \"seed\": 7})\n",
    "\n",
    "#tfidf_big5_norm\n",
    "main(\"export\", \"emo_big5_norm.csv\", [\"KMeans\"], {\"k\" : 2, \"seed\": 7})\n",
    "main(\"export\", \"emo_big5_norm.csv\", [\"MiniBatchKMeans\"], {\"k\" : 3, \"seed\": 57})\n",
    "\n",
    "#tfidf_big5_norm\n",
    "main(\"export\", \"emo_big5_norm.csv\", [\"KMeans\"], {\"k\" : 2, \"seed\": 7})\n",
    "main(\"export\", \"emo_big5_norm.csv\", [\"MiniBatchKMeans\"], {\"k\" : 3, \"seed\": 7})"
   ]
  }
 ],
 "metadata": {
  "kernelspec": {
   "display_name": "Python 3 (ipykernel)",
   "language": "python",
   "name": "python3"
  },
  "language_info": {
   "codemirror_mode": {
    "name": "ipython",
    "version": 3
   },
   "file_extension": ".py",
   "mimetype": "text/x-python",
   "name": "python",
   "nbconvert_exporter": "python",
   "pygments_lexer": "ipython3",
   "version": "3.10.5"
  }
 },
 "nbformat": 4,
 "nbformat_minor": 4
}
